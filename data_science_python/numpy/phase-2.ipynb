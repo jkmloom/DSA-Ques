{
 "cells": [
  {
   "cell_type": "markdown",
   "id": "c23d66ba",
   "metadata": {},
   "source": [
    "## Numpy Array Operations\n",
    "@jkmloom"
   ]
  },
  {
   "cell_type": "code",
   "execution_count": 1,
   "id": "01ba6486",
   "metadata": {},
   "outputs": [],
   "source": [
    "import numpy as np"
   ]
  },
  {
   "cell_type": "code",
   "execution_count": 4,
   "id": "2547ebdd",
   "metadata": {},
   "outputs": [
    {
     "name": "stdout",
     "output_type": "stream",
     "text": [
      "Basic Slicing: [3 4 5 6 7]\n",
      "With Step: [2 4 6 8]\n",
      "Negative Indexing: 8\n"
     ]
    }
   ],
   "source": [
    "arr = np.array([1, 2, 3, 4, 5, 6, 7, 8, 9, 10])\n",
    "print(f\"Basic Slicing: {arr[2:7]}\")\n",
    "print(f\"With Step: {arr[1:8:2]}\")\n",
    "print(f\"Negative Indexing: {arr[-3]}\")"
   ]
  },
  {
   "cell_type": "code",
   "execution_count": 8,
   "id": "3ed36467",
   "metadata": {},
   "outputs": [
    {
     "name": "stdout",
     "output_type": "stream",
     "text": [
      "Specific Element: 6\n",
      "Entire Row: [4 5 6]\n",
      "Entire Column: [2 5 8]\n"
     ]
    }
   ],
   "source": [
    "arr_2d = np.array([[1, 2, 3],\n",
    "                   [4, 5, 6],\n",
    "                   [7, 8, 9]])\n",
    "print(f\"Specific Element: {arr_2d[1, 2]}\") # [row, element]\n",
    "print(f\"Entire Row: {arr_2d[1]}\")\n",
    "print(f\"Entire Column: {arr_2d[:, 1]}\")"
   ]
  },
  {
   "cell_type": "markdown",
   "id": "13bafc09",
   "metadata": {},
   "source": [
    "### Sorting"
   ]
  },
  {
   "cell_type": "code",
   "execution_count": 11,
   "id": "7b2d6385",
   "metadata": {},
   "outputs": [
    {
     "name": "stdout",
     "output_type": "stream",
     "text": [
      "Sorted Array: [1 1 2 3 4 5 6 9]\n",
      "Sorted 2D Array by Column:\n",
      "[[1 1]\n",
      " [3 2]\n",
      " [3 4]]\n",
      "Sorted 2D Array by Rows:\n",
      "[[1 3]\n",
      " [1 2]\n",
      " [3 4]]\n"
     ]
    }
   ],
   "source": [
    "unsorted = np.array([3, 1, 4, 1, 5, 9, 2, 6])\n",
    "print(f\"Sorted Array: {np.sort(unsorted)}\")\n",
    "\n",
    "arr_2d_unsorted = np.array([[3, 1], [1, 2], [3, 4]])\n",
    "print(f\"Sorted 2D Array by Column:\\n{np.sort(arr_2d_unsorted, axis=0)}\")\n",
    "print(f\"Sorted 2D Array by Rows:\\n{np.sort(arr_2d_unsorted, axis=1)}\")"
   ]
  },
  {
   "cell_type": "markdown",
   "id": "0dad9ba0",
   "metadata": {},
   "source": [
    "### Filtering Array"
   ]
  },
  {
   "cell_type": "code",
   "execution_count": 12,
   "id": "a1e2c3c6",
   "metadata": {},
   "outputs": [
    {
     "name": "stdout",
     "output_type": "stream",
     "text": [
      "Even Numbers: [ 2  4  6  8 10]\n"
     ]
    }
   ],
   "source": [
    "numbers = np.array([1, 2, 3, 4, 5, 6, 7 ,8, 9, 10])\n",
    "even_numbers = numbers[numbers % 2 == 0]\n",
    "print(f\"Even Numbers: {even_numbers}\")"
   ]
  },
  {
   "cell_type": "markdown",
   "id": "1845eaa6",
   "metadata": {},
   "source": [
    "### Filter with Mask"
   ]
  },
  {
   "cell_type": "code",
   "execution_count": 13,
   "id": "43cb5d75",
   "metadata": {},
   "outputs": [
    {
     "name": "stdout",
     "output_type": "stream",
     "text": [
      "Numbers greater than 5: [ 6  7  8  9 10]\n"
     ]
    }
   ],
   "source": [
    "mask = numbers > 5 # mask is an expression\n",
    "print(f\"Numbers greater than 5: {numbers[mask]}\")"
   ]
  },
  {
   "cell_type": "markdown",
   "id": "310b4556",
   "metadata": {},
   "source": [
    "### Fancy Indexing vs np.where()"
   ]
  },
  {
   "cell_type": "code",
   "execution_count": 18,
   "id": "c3e0e02e",
   "metadata": {},
   "outputs": [
    {
     "name": "stdout",
     "output_type": "stream",
     "text": [
      "[1 3 5]\n",
      "(array([5, 6, 7, 8, 9]),)\n",
      "np.where(): [ 6  7  8  9 10]\n"
     ]
    }
   ],
   "source": [
    "indices = [0, 2, 4]\n",
    "print(numbers[indices])\n",
    "\n",
    "where_result = np.where(numbers > 5)\n",
    "print(where_result)\n",
    "print(f\"np.where(): {numbers[where_result]}\")"
   ]
  },
  {
   "cell_type": "code",
   "execution_count": 25,
   "id": "c77456e1",
   "metadata": {},
   "outputs": [
    {
     "data": {
      "text/plain": [
       "array([ 1,  2,  3,  4,  5,  6,  7,  8,  9, 10])"
      ]
     },
     "execution_count": 25,
     "metadata": {},
     "output_type": "execute_result"
    }
   ],
   "source": [
    "numbers"
   ]
  },
  {
   "cell_type": "code",
   "execution_count": 24,
   "id": "cf910f8d",
   "metadata": {},
   "outputs": [
    {
     "data": {
      "text/plain": [
       "array([ 1,  2,  3,  4,  5, 12, 14, 16, 18, 20])"
      ]
     },
     "execution_count": 24,
     "metadata": {},
     "output_type": "execute_result"
    }
   ],
   "source": [
    "condition_array = np.where(numbers > 5, numbers * 2, numbers)\n",
    "# np.where(condition, operation, otherwise condition)\n",
    "condition_array"
   ]
  },
  {
   "cell_type": "code",
   "execution_count": 27,
   "id": "e27b51ce",
   "metadata": {},
   "outputs": [
    {
     "name": "stdout",
     "output_type": "stream",
     "text": [
      "Array: ['false' 'false' 'false' 'false' 'false' 'true' 'true' 'true' 'true'\n",
      " 'true']\n"
     ]
    }
   ],
   "source": [
    "condition_array = np.where(numbers > 5, \"true\", \"false\")\n",
    "print(f\"Array: {condition_array}\")"
   ]
  },
  {
   "cell_type": "markdown",
   "id": "233dce4c",
   "metadata": {},
   "source": [
    "### Adding and Removing Data"
   ]
  },
  {
   "cell_type": "code",
   "execution_count": 29,
   "id": "eefdb13c",
   "metadata": {},
   "outputs": [
    {
     "name": "stdout",
     "output_type": "stream",
     "text": [
      "Combined Array: [1 2 3 4 5 6]\n"
     ]
    }
   ],
   "source": [
    "arr_1 = np.array([1, 2, 3])\n",
    "arr_2 = np.array([4, 5, 6])\n",
    "\n",
    "combined = np.concatenate((arr_1, arr_2))\n",
    "print(f\"Combined Array: {combined}\")"
   ]
  },
  {
   "cell_type": "markdown",
   "id": "714054c2",
   "metadata": {},
   "source": [
    "### Array Compatibility"
   ]
  },
  {
   "cell_type": "code",
   "execution_count": 31,
   "id": "14b066c4",
   "metadata": {},
   "outputs": [
    {
     "name": "stdout",
     "output_type": "stream",
     "text": [
      "Compatibility Shapes: True\n"
     ]
    }
   ],
   "source": [
    "a = np.array([1, 2, 3])\n",
    "b = np.array([4, 5, 6])\n",
    "c = np.array([7, 8, 9])\n",
    "\n",
    "print(f\"Compatibility Shapes: {a.shape == b.shape}\")"
   ]
  },
  {
   "cell_type": "code",
   "execution_count": 35,
   "id": "485038ea",
   "metadata": {},
   "outputs": [
    {
     "name": "stdout",
     "output_type": "stream",
     "text": [
      "[[1 2]\n",
      " [3 4]] \n",
      "\n",
      "[[1 2]\n",
      " [3 4]\n",
      " [5 6]]\n",
      "\n",
      " [[1 2 7]\n",
      " [3 4 8]]\n"
     ]
    }
   ],
   "source": [
    "original = np.array([[1, 2],\n",
    "                    [3, 4]])\n",
    "new_row = np.array([[5, 6]])\n",
    "\n",
    "# np.vstack -> adds a row\n",
    "with_new_row = np.vstack((original, new_row))\n",
    "print(original, \"\\n\")\n",
    "print(with_new_row)\n",
    "\n",
    "new_column = np.array([[7], [8]])\n",
    "with_new_call = np.hstack((original, new_column))\n",
    "print(\"\\n\", with_new_call)"
   ]
  },
  {
   "cell_type": "code",
   "execution_count": 37,
   "id": "0a1f91f8",
   "metadata": {},
   "outputs": [
    {
     "name": "stdout",
     "output_type": "stream",
     "text": [
      "Array after deletion: [1 2 4 5]\n"
     ]
    }
   ],
   "source": [
    "arr = np.array([1, 2, 3, 4, 5])\n",
    "deleted = np.delete(arr, 2)\n",
    "print(f\"Array after deletion: {deleted}\")"
   ]
  }
 ],
 "metadata": {
  "kernelspec": {
   "display_name": "venv",
   "language": "python",
   "name": "python3"
  },
  "language_info": {
   "codemirror_mode": {
    "name": "ipython",
    "version": 3
   },
   "file_extension": ".py",
   "mimetype": "text/x-python",
   "name": "python",
   "nbconvert_exporter": "python",
   "pygments_lexer": "ipython3",
   "version": "3.12.7"
  }
 },
 "nbformat": 4,
 "nbformat_minor": 5
}
