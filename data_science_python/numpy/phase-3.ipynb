{
 "cells": [
  {
   "cell_type": "markdown",
   "id": "2a2be2b7",
   "metadata": {},
   "source": [
    "# Advance Opration with Business Examples"
   ]
  },
  {
   "cell_type": "code",
   "execution_count": null,
   "id": "6f4bd6ba",
   "metadata": {},
   "outputs": [],
   "source": [
    "import numpy as np"
   ]
  },
  {
   "cell_type": "code",
   "execution_count": null,
   "id": "2c660f34",
   "metadata": {},
   "outputs": [],
   "source": []
  }
 ],
 "metadata": {
  "kernelspec": {
   "display_name": "venv",
   "language": "python",
   "name": "python3"
  },
  "language_info": {
   "name": "python",
   "version": "3.12.7"
  }
 },
 "nbformat": 4,
 "nbformat_minor": 5
}
