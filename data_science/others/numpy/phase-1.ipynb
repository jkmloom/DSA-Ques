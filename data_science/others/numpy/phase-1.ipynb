{
 "cells": [
  {
   "cell_type": "markdown",
   "id": "7b45bcf4",
   "metadata": {},
   "source": [
    "## Numpy Array and Basics\n",
    "learning numpy with **\"Chai aur Code\"** on YouTube  \n",
    "-- @jkmloom"
   ]
  },
  {
   "cell_type": "code",
   "execution_count": 1,
   "id": "71450ef8",
   "metadata": {},
   "outputs": [],
   "source": [
    "import numpy as np"
   ]
  },
  {
   "cell_type": "markdown",
   "id": "a7ea52d4",
   "metadata": {},
   "source": [
    "### Creating Array from List"
   ]
  },
  {
   "cell_type": "code",
   "execution_count": 9,
   "id": "11f47a77",
   "metadata": {},
   "outputs": [
    {
     "name": "stdout",
     "output_type": "stream",
     "text": [
      "1D Array:\n",
      "[1 2 3 4 5]\n",
      "------------\n",
      "2D Array:\n",
      "[[1 2 3 4 5]\n",
      " [6 7 8 9 0]]\n"
     ]
    }
   ],
   "source": [
    "arr_1d = np.array([1, 2, 3, 4, 5])\n",
    "print(f\"1D Array:\\n{arr_1d}\")\n",
    "\n",
    "print(f\"{'-'*12}\")\n",
    "\n",
    "arr_2d = np.array([[1, 2, 3, 4, 5],[6, 7, 8, 9, 0]])\n",
    "print(f\"2D Array:\\n{arr_2d}\")"
   ]
  },
  {
   "cell_type": "markdown",
   "id": "399b0cc1",
   "metadata": {},
   "source": [
    "### List vs Numpy Array"
   ]
  },
  {
   "cell_type": "code",
   "execution_count": null,
   "id": "8ba26d2f",
   "metadata": {},
   "outputs": [
    {
     "name": "stdout",
     "output_type": "stream",
     "text": [
      "Python list multiplication: [1, 2, 3, 4, 5, 1, 2, 3, 4, 5]\n",
      "Python array multiplication: [ 2  4  6  8 10]\n"
     ]
    }
   ],
   "source": [
    "py_list = [1, 2, 3, 4, 5]\n",
    "print(f\"Python list multiplication: {py_list * 2}\") # 2 is a vector value\n",
    "\n",
    "np_array = np.array(py_list)\n",
    "print(f\"Python array multiplication: {np_array * 2}\") # 2 is a scaler value"
   ]
  },
  {
   "cell_type": "code",
   "execution_count": 13,
   "id": "6949ddd1",
   "metadata": {},
   "outputs": [
    {
     "name": "stdout",
     "output_type": "stream",
     "text": [
      "List Operation time 0.12778210639953613\n",
      "Numpy Array Operation time 0.007056713104248047\n"
     ]
    }
   ],
   "source": [
    "import time\n",
    "\n",
    "start = time.time()\n",
    "py_list = [i*2 for i in range(1000000)]\n",
    "print(\"List Operation time\", time.time() - start)\n",
    "\n",
    "start = time.time()\n",
    "np_array = np.arange(1000000) * 2\n",
    "print(\"Numpy Array Operation time\", time.time() - start)"
   ]
  },
  {
   "cell_type": "markdown",
   "id": "b62b8907",
   "metadata": {},
   "source": [
    "### Creating Array from Scratch"
   ]
  },
  {
   "cell_type": "code",
   "execution_count": 16,
   "id": "1964c14d",
   "metadata": {},
   "outputs": [
    {
     "name": "stdout",
     "output_type": "stream",
     "text": [
      "Zeros Array:\n",
      "[[0. 0. 0. 0.]\n",
      " [0. 0. 0. 0.]\n",
      " [0. 0. 0. 0.]]\n"
     ]
    }
   ],
   "source": [
    "zeros = np.zeros((3, 4))\n",
    "print(f\"Zeros Array:\\n{zeros}\")"
   ]
  },
  {
   "cell_type": "code",
   "execution_count": 19,
   "id": "21d557ea",
   "metadata": {},
   "outputs": [
    {
     "name": "stdout",
     "output_type": "stream",
     "text": [
      "Ones Array:\n",
      "[[1. 1. 1. 1.]\n",
      " [1. 1. 1. 1.]\n",
      " [1. 1. 1. 1.]]\n"
     ]
    }
   ],
   "source": [
    "ones = np.ones((3, 4))\n",
    "print(f\"Ones Array:\\n{ones}\")"
   ]
  },
  {
   "cell_type": "code",
   "execution_count": 23,
   "id": "9f06d151",
   "metadata": {},
   "outputs": [
    {
     "name": "stdout",
     "output_type": "stream",
     "text": [
      "Ones Array:\n",
      "[[1 1 1 1]\n",
      " [1 1 1 1]\n",
      " [1 1 1 1]]\n"
     ]
    }
   ],
   "source": [
    "# ones = np.ones((3, 4), dtype = int)\n",
    "ones = np.ones((3, 4), int)\n",
    "print(f\"Ones Array:\\n{ones}\")"
   ]
  },
  {
   "cell_type": "code",
   "execution_count": 25,
   "id": "4ed0ccd1",
   "metadata": {},
   "outputs": [
    {
     "name": "stdout",
     "output_type": "stream",
     "text": [
      "Full Array:\n",
      "[[7 7 7]\n",
      " [7 7 7]\n",
      " [7 7 7]]\n"
     ]
    }
   ],
   "source": [
    "full = np.full((3, 3), 7)\n",
    "print(f\"Full Array:\\n{full}\")"
   ]
  },
  {
   "cell_type": "code",
   "execution_count": 31,
   "id": "642c16ff",
   "metadata": {},
   "outputs": [
    {
     "name": "stdout",
     "output_type": "stream",
     "text": [
      "Random Array:\n",
      "[[0.7716638  0.35183133 0.00554918 0.15537399]\n",
      " [0.34692357 0.02175451 0.6421528  0.93366126]\n",
      " [0.75719705 0.87089413 0.73868596 0.28375765]\n",
      " [0.73097306 0.10946243 0.42200761 0.80507405]]\n"
     ]
    }
   ],
   "source": [
    "# random in numpy is a class and has multiple methods\n",
    "random = np.random.random((4, 4))\n",
    "print(f\"Random Array:\\n{random}\")\n",
    "# random values variate between 0-1"
   ]
  },
  {
   "cell_type": "code",
   "execution_count": 33,
   "id": "1c85aa13",
   "metadata": {},
   "outputs": [
    {
     "name": "stdout",
     "output_type": "stream",
     "text": [
      "Sequence Array:\n",
      "[ 0  2  4  6  8 10]\n"
     ]
    }
   ],
   "source": [
    "sequence = np.arange(0, 11, 2)\n",
    "print(f\"Sequence Array:\\n{sequence}\")"
   ]
  },
  {
   "cell_type": "markdown",
   "id": "305fd070",
   "metadata": {},
   "source": [
    "### Vector, Matrix, and Tensor"
   ]
  },
  {
   "cell_type": "code",
   "execution_count": 36,
   "id": "21139eac",
   "metadata": {},
   "outputs": [
    {
     "name": "stdout",
     "output_type": "stream",
     "text": [
      "Vector: [1 2 3 4 5]\n"
     ]
    }
   ],
   "source": [
    "# matrix is 1 dimentional\n",
    "vector = np.array([1, 2, 3, 4, 5])\n",
    "print(f\"Vector: {vector}\")"
   ]
  },
  {
   "cell_type": "code",
   "execution_count": 37,
   "id": "b79c8d0b",
   "metadata": {},
   "outputs": [
    {
     "name": "stdout",
     "output_type": "stream",
     "text": [
      "Matrix:\n",
      "[[1 2 3]\n",
      " [4 5 6]]\n"
     ]
    }
   ],
   "source": [
    "# matrix is 2 dimentional\n",
    "matrix = np.array([[1, 2, 3],\n",
    "                   [4, 5, 6]])\n",
    "print(f\"Matrix:\\n{matrix}\")"
   ]
  },
  {
   "cell_type": "code",
   "execution_count": 40,
   "id": "723857d9",
   "metadata": {},
   "outputs": [
    {
     "name": "stdout",
     "output_type": "stream",
     "text": [
      "Tensor:\n",
      "[[[1 2]\n",
      "  [3 4]]\n",
      "\n",
      " [[5 6]\n",
      "  [7 8]]]\n"
     ]
    }
   ],
   "source": [
    "# higher dimentional values\n",
    "tensor = np.array([[[1, 2], [3, 4]],\n",
    "                   [[5, 6], [7, 8]]])\n",
    "print(f\"Tensor:\\n{tensor}\")"
   ]
  },
  {
   "cell_type": "markdown",
   "id": "2ae78f6a",
   "metadata": {},
   "source": [
    "### Array Properties"
   ]
  },
  {
   "cell_type": "code",
   "execution_count": 47,
   "id": "7fe88d13",
   "metadata": {},
   "outputs": [
    {
     "name": "stdout",
     "output_type": "stream",
     "text": [
      "Shape: (2, 3)\n",
      "Dimention: 2\n",
      "Size: 6\n",
      "Data Type: float64\n"
     ]
    }
   ],
   "source": [
    "arr = np.array([[1, 2, 3],\n",
    "                [4, 5, 6.8]])\n",
    "print(f\"Shape: {arr.shape}\")\n",
    "print(f\"Dimention: {arr.ndim}\")\n",
    "print(f\"Size: {arr.size}\") # total no. of elements\n",
    "print(f\"Data Type: {arr.dtype}\")\n"
   ]
  },
  {
   "cell_type": "markdown",
   "id": "667a95a3",
   "metadata": {},
   "source": [
    "### Array Reshaping"
   ]
  },
  {
   "cell_type": "code",
   "execution_count": 58,
   "id": "43e436d7",
   "metadata": {},
   "outputs": [
    {
     "name": "stdout",
     "output_type": "stream",
     "text": [
      "Original Array: [ 0  1  2  3  4  5  6  7  8  9 10 11]\n",
      "Reshaped Array:\n",
      "[[ 0  1  2  3]\n",
      " [ 4  5  6  7]\n",
      " [ 8  9 10 11]]\n",
      "Flattened Array: [ 0  1  2  3  4  5  6  7  8  9 10 11]\n",
      "Reveled Array: [ 0  1  2  3  4  5  6  7  8  9 10 11]\n",
      "Transposed Array:\n",
      "[[ 0  4  8]\n",
      " [ 1  5  9]\n",
      " [ 2  6 10]\n",
      " [ 3  7 11]]\n"
     ]
    }
   ],
   "source": [
    "arr = np.arange(12)\n",
    "print(f\"Original Array: {arr}\")\n",
    "\n",
    "reshaped = arr.reshape((3, 4))\n",
    "print(f\"Reshaped Array:\\n{reshaped}\")\n",
    "\n",
    "flattened = reshaped.flatten()\n",
    "print(f\"Flattened Array: {flattened}\")\n",
    "\n",
    "# ravel returns view, instead of copy\n",
    "reveled = reshaped.ravel()\n",
    "print(f\"Reveled Array: {reveled}\")\n",
    "\n",
    "# transpose\n",
    "transpose = reshaped.T\n",
    "print(f\"Transposed Array:\\n{transpose}\")"
   ]
  }
 ],
 "metadata": {
  "kernelspec": {
   "display_name": "venv",
   "language": "python",
   "name": "python3"
  },
  "language_info": {
   "codemirror_mode": {
    "name": "ipython",
    "version": 3
   },
   "file_extension": ".py",
   "mimetype": "text/x-python",
   "name": "python",
   "nbconvert_exporter": "python",
   "pygments_lexer": "ipython3",
   "version": "3.14.0"
  }
 },
 "nbformat": 4,
 "nbformat_minor": 5
}
