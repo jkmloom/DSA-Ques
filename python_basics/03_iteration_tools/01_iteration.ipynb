{
 "cells": [
  {
   "cell_type": "markdown",
   "id": "2a0c83bf",
   "metadata": {},
   "source": [
    "### **Iteration in Python**"
   ]
  },
  {
   "cell_type": "code",
   "execution_count": null,
   "id": "1b82d8aa",
   "metadata": {},
   "outputs": [],
   "source": [
    "f = open(\"./test_file.py\")  # open a file"
   ]
  },
  {
   "cell_type": "code",
   "execution_count": 2,
   "id": "1b4c5159",
   "metadata": {},
   "outputs": [
    {
     "data": {
      "text/plain": [
       "'import time\\n'"
      ]
     },
     "execution_count": 2,
     "metadata": {},
     "output_type": "execute_result"
    }
   ],
   "source": [
    "f.readline()"
   ]
  },
  {
   "cell_type": "code",
   "execution_count": 3,
   "id": "1a8f28c6",
   "metadata": {},
   "outputs": [
    {
     "data": {
      "text/plain": [
       "'\\n'"
      ]
     },
     "execution_count": 3,
     "metadata": {},
     "output_type": "execute_result"
    }
   ],
   "source": [
    "f.readline()"
   ]
  },
  {
   "cell_type": "code",
   "execution_count": 4,
   "id": "69b69e00",
   "metadata": {},
   "outputs": [
    {
     "data": {
      "text/plain": [
       "'print(\"Hello real world people!\")\\n'"
      ]
     },
     "execution_count": 4,
     "metadata": {},
     "output_type": "execute_result"
    }
   ],
   "source": [
    "f.readline()"
   ]
  },
  {
   "cell_type": "code",
   "execution_count": 5,
   "id": "eb53fc0e",
   "metadata": {},
   "outputs": [
    {
     "data": {
      "text/plain": [
       "'username = \"@jkmloom\"\\n'"
      ]
     },
     "execution_count": 5,
     "metadata": {},
     "output_type": "execute_result"
    }
   ],
   "source": [
    "f.readline()"
   ]
  },
  {
   "cell_type": "code",
   "execution_count": 6,
   "id": "a64f74ad",
   "metadata": {},
   "outputs": [
    {
     "data": {
      "text/plain": [
       "'print(username)'"
      ]
     },
     "execution_count": 6,
     "metadata": {},
     "output_type": "execute_result"
    }
   ],
   "source": [
    "f.readline()"
   ]
  },
  {
   "cell_type": "code",
   "execution_count": null,
   "id": "bc0c40ed",
   "metadata": {},
   "outputs": [
    {
     "data": {
      "text/plain": [
       "''"
      ]
     },
     "execution_count": 7,
     "metadata": {},
     "output_type": "execute_result"
    }
   ],
   "source": [
    "f.readline() # iteration stops here"
   ]
  },
  {
   "cell_type": "code",
   "execution_count": 8,
   "id": "a90e2a63",
   "metadata": {},
   "outputs": [],
   "source": [
    "f = open(\"test_file.py\")"
   ]
  },
  {
   "cell_type": "code",
   "execution_count": 9,
   "id": "434245b4",
   "metadata": {},
   "outputs": [
    {
     "data": {
      "text/plain": [
       "'import time\\n'"
      ]
     },
     "execution_count": 9,
     "metadata": {},
     "output_type": "execute_result"
    }
   ],
   "source": [
    "f.__next__()"
   ]
  },
  {
   "cell_type": "code",
   "execution_count": 10,
   "id": "6a83e340",
   "metadata": {},
   "outputs": [
    {
     "data": {
      "text/plain": [
       "'\\n'"
      ]
     },
     "execution_count": 10,
     "metadata": {},
     "output_type": "execute_result"
    }
   ],
   "source": [
    "f.__next__()"
   ]
  },
  {
   "cell_type": "code",
   "execution_count": 11,
   "id": "1d018369",
   "metadata": {},
   "outputs": [
    {
     "data": {
      "text/plain": [
       "'print(\"Hello real world people!\")\\n'"
      ]
     },
     "execution_count": 11,
     "metadata": {},
     "output_type": "execute_result"
    }
   ],
   "source": [
    "f.__next__()"
   ]
  },
  {
   "cell_type": "code",
   "execution_count": 12,
   "id": "0cfdb9fd",
   "metadata": {},
   "outputs": [
    {
     "data": {
      "text/plain": [
       "'username = \"@jkmloom\"\\n'"
      ]
     },
     "execution_count": 12,
     "metadata": {},
     "output_type": "execute_result"
    }
   ],
   "source": [
    "f.__next__()"
   ]
  },
  {
   "cell_type": "code",
   "execution_count": 13,
   "id": "22812535",
   "metadata": {},
   "outputs": [
    {
     "data": {
      "text/plain": [
       "'print(username)'"
      ]
     },
     "execution_count": 13,
     "metadata": {},
     "output_type": "execute_result"
    }
   ],
   "source": [
    "f.__next__()"
   ]
  },
  {
   "cell_type": "code",
   "execution_count": null,
   "id": "b8cd94ef",
   "metadata": {},
   "outputs": [
    {
     "ename": "StopIteration",
     "evalue": "",
     "output_type": "error",
     "traceback": [
      "\u001b[1;31m---------------------------------------------------------------------------\u001b[0m",
      "\u001b[1;31mStopIteration\u001b[0m                             Traceback (most recent call last)",
      "Cell \u001b[1;32mIn[14], line 1\u001b[0m\n\u001b[1;32m----> 1\u001b[0m f\u001b[38;5;241m.\u001b[39m\u001b[38;5;21m__next__\u001b[39m()\n",
      "\u001b[1;31mStopIteration\u001b[0m: "
     ]
    }
   ],
   "source": [
    "f.__next__() # iteration stops here"
   ]
  },
  {
   "cell_type": "code",
   "execution_count": 18,
   "id": "baf14df8",
   "metadata": {},
   "outputs": [
    {
     "name": "stdout",
     "output_type": "stream",
     "text": [
      "import time\n",
      "\n",
      "print(\"Hello real world people!\")\n",
      "username = \"@jkmloom\"\n",
      "print(username)"
     ]
    }
   ],
   "source": [
    "# Can use this method as well\n",
    "for line in open(\"test_file.py\"):\n",
    "    print(line, end = '')"
   ]
  },
  {
   "cell_type": "code",
   "execution_count": 20,
   "id": "14c40fb5",
   "metadata": {},
   "outputs": [
    {
     "name": "stdout",
     "output_type": "stream",
     "text": [
      "import time\n",
      "\n",
      "print(\"Hello real world people!\")\n",
      "username = \"@jkmloom\"\n",
      "print(username)"
     ]
    }
   ],
   "source": [
    "f = open('./test_file.py')\n",
    "while True:\n",
    "    line = f.readline()\n",
    "    if not line: break\n",
    "    else: print(line, end = '')"
   ]
  },
  {
   "cell_type": "code",
   "execution_count": 22,
   "id": "597e46d5",
   "metadata": {},
   "outputs": [
    {
     "name": "stdout",
     "output_type": "stream",
     "text": [
      "Is @jkmloom..!\n"
     ]
    }
   ],
   "source": [
    "test = \"jkmloom\"\n",
    "\n",
    "if not test: print(\"Not @jkmloom..!\")\n",
    "else: print(\"Is @jkmloom..!\")"
   ]
  },
  {
   "cell_type": "code",
   "execution_count": null,
   "id": "844f1aaa",
   "metadata": {},
   "outputs": [
    {
     "data": {
      "text/plain": [
       "<list_iterator at 0x26349443b80>"
      ]
     },
     "execution_count": 23,
     "metadata": {},
     "output_type": "execute_result"
    }
   ],
   "source": [
    "my_list = [1, 2, 3, 4]\n",
    "\n",
    "I = iter(my_list)\n",
    "I # this line will return memory reference value"
   ]
  },
  {
   "cell_type": "code",
   "execution_count": 24,
   "id": "29743bea",
   "metadata": {},
   "outputs": [
    {
     "data": {
      "text/plain": [
       "1"
      ]
     },
     "execution_count": 24,
     "metadata": {},
     "output_type": "execute_result"
    }
   ],
   "source": [
    "I.__next__()"
   ]
  },
  {
   "cell_type": "code",
   "execution_count": 25,
   "id": "b4f9ba39",
   "metadata": {},
   "outputs": [
    {
     "data": {
      "text/plain": [
       "2"
      ]
     },
     "execution_count": 25,
     "metadata": {},
     "output_type": "execute_result"
    }
   ],
   "source": [
    "next(I) # can be used in this way as well"
   ]
  },
  {
   "cell_type": "code",
   "execution_count": 26,
   "id": "41f8f9a0",
   "metadata": {},
   "outputs": [
    {
     "data": {
      "text/plain": [
       "3"
      ]
     },
     "execution_count": 26,
     "metadata": {},
     "output_type": "execute_result"
    }
   ],
   "source": [
    "I.__next__()"
   ]
  },
  {
   "cell_type": "code",
   "execution_count": 27,
   "id": "ea181a6e",
   "metadata": {},
   "outputs": [
    {
     "data": {
      "text/plain": [
       "4"
      ]
     },
     "execution_count": 27,
     "metadata": {},
     "output_type": "execute_result"
    }
   ],
   "source": [
    "next(I)"
   ]
  },
  {
   "cell_type": "code",
   "execution_count": null,
   "id": "7e283423",
   "metadata": {},
   "outputs": [
    {
     "data": {
      "text/plain": [
       "<list_iterator at 0x26349443b80>"
      ]
     },
     "execution_count": 28,
     "metadata": {},
     "output_type": "execute_result"
    }
   ],
   "source": [
    "I # memory reference value will be the same (because it refers to a list/array)"
   ]
  },
  {
   "cell_type": "code",
   "execution_count": null,
   "id": "8c2f5e19",
   "metadata": {},
   "outputs": [],
   "source": [
    "f = open(\"./test_file.py\") # things are a littel different when dealing with files"
   ]
  },
  {
   "cell_type": "code",
   "execution_count": 30,
   "id": "5cc6435c",
   "metadata": {},
   "outputs": [
    {
     "data": {
      "text/plain": [
       "True"
      ]
     },
     "execution_count": 30,
     "metadata": {},
     "output_type": "execute_result"
    }
   ],
   "source": [
    "iter(f) is f"
   ]
  },
  {
   "cell_type": "code",
   "execution_count": 33,
   "id": "3f108807",
   "metadata": {},
   "outputs": [
    {
     "data": {
      "text/plain": [
       "True"
      ]
     },
     "execution_count": 33,
     "metadata": {},
     "output_type": "execute_result"
    }
   ],
   "source": [
    "iter(f) is f.__iter__()"
   ]
  },
  {
   "cell_type": "code",
   "execution_count": null,
   "id": "77fdcf69",
   "metadata": {},
   "outputs": [],
   "source": []
  }
 ],
 "metadata": {
  "kernelspec": {
   "display_name": "base",
   "language": "python",
   "name": "python3"
  },
  "language_info": {
   "codemirror_mode": {
    "name": "ipython",
    "version": 3
   },
   "file_extension": ".py",
   "mimetype": "text/x-python",
   "name": "python",
   "nbconvert_exporter": "python",
   "pygments_lexer": "ipython3",
   "version": "3.12.7"
  }
 },
 "nbformat": 4,
 "nbformat_minor": 5
}
