{
 "cells": [
  {
   "cell_type": "markdown",
   "id": "89ce6ebf",
   "metadata": {},
   "source": [
    "![Iteration Workflow in Python Interpretation System](./iteration_flowchart.png, \"Iteration Workflow in Python Interpretation System\")\n",
    "- Screenshort from a lecture on YouTube.\n",
    "- https://youtube.com/@chaiaurcode"
   ]
  },
  {
   "cell_type": "code",
   "execution_count": null,
   "id": "4cf5b54f",
   "metadata": {},
   "outputs": [],
   "source": []
  }
 ],
 "metadata": {
  "language_info": {
   "name": "python"
  }
 },
 "nbformat": 4,
 "nbformat_minor": 5
}
