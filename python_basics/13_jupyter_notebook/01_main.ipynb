{
 "cells": [
  {
   "cell_type": "code",
   "execution_count": 1,
   "id": "142b840a",
   "metadata": {},
   "outputs": [
    {
     "name": "stdout",
     "output_type": "stream",
     "text": [
      "1 2 3 4 5 6 7 8 9 10 11 12 13 14 15 16 17 18 19 20 "
     ]
    }
   ],
   "source": [
    "for i in range(1, 21):\n",
    "    print(i, end=\" \")"
   ]
  },
  {
   "cell_type": "code",
   "execution_count": 2,
   "id": "c2a1cadd",
   "metadata": {},
   "outputs": [
    {
     "name": "stdout",
     "output_type": "stream",
     "text": [
      "We can execute normal python code in these cells.\n"
     ]
    }
   ],
   "source": [
    "print(\"We can execute normal python code in these cells.\")"
   ]
  },
  {
   "cell_type": "markdown",
   "id": "dbcde160",
   "metadata": {},
   "source": [
    "# Markdown Heading\n",
    "* Bullet Point\n",
    "- Another Bullet Point\n",
    "Normal Text\n",
    "\n",
    "---\n",
    "- Markdown text is also important. Normally used for documenting projects."
   ]
  },
  {
   "cell_type": "markdown",
   "id": "23fba69d",
   "metadata": {},
   "source": []
  }
 ],
 "metadata": {
  "kernelspec": {
   "display_name": "jkmloom_custom",
   "language": "python",
   "name": "python3"
  },
  "language_info": {
   "codemirror_mode": {
    "name": "ipython",
    "version": 3
   },
   "file_extension": ".py",
   "mimetype": "text/x-python",
   "name": "python",
   "nbconvert_exporter": "python",
   "pygments_lexer": "ipython3",
   "version": "3.14.0"
  }
 },
 "nbformat": 4,
 "nbformat_minor": 5
}
