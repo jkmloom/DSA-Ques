{
 "cells": [
  {
   "cell_type": "code",
   "execution_count": 1,
   "id": "b58d5e82",
   "metadata": {},
   "outputs": [
    {
     "name": "stdout",
     "output_type": "stream",
     "text": [
      "jkmloom\n"
     ]
    }
   ],
   "source": [
    "username = \"jkmloom\"\n",
    "\n",
    "def example_function():\n",
    "    username = \"jkm\"\n",
    "\n",
    "print(username)"
   ]
  },
  {
   "cell_type": "code",
   "execution_count": null,
   "id": "3ce223e1",
   "metadata": {},
   "outputs": [],
   "source": [
    "username = \"jkmloom\"\n",
    "\n",
    "def example_function():\n",
    "    username = \"jkm\"\n",
    "    print(username)\n",
    "\n",
    "print(username)"
   ]
  }
 ],
 "metadata": {
  "kernelspec": {
   "display_name": "base",
   "language": "python",
   "name": "python3"
  },
  "language_info": {
   "codemirror_mode": {
    "name": "ipython",
    "version": 3
   },
   "file_extension": ".py",
   "mimetype": "text/x-python",
   "name": "python",
   "nbconvert_exporter": "python",
   "pygments_lexer": "ipython3",
   "version": "3.12.7"
  }
 },
 "nbformat": 4,
 "nbformat_minor": 5
}
